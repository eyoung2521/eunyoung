{
  "nbformat": 4,
  "nbformat_minor": 0,
  "metadata": {
    "colab": {
      "provenance": []
    },
    "kernelspec": {
      "name": "python3",
      "display_name": "Python 3"
    },
    "language_info": {
      "name": "python"
    }
  },
  "cells": [
    {
      "cell_type": "code",
      "execution_count": null,
      "metadata": {
        "id": "9el9MdksPS9B"
      },
      "outputs": [],
      "source": [
        "cont_line_table = 'L0_CSMS_BAK.V_L0CSMS_XRMCT_CONT_LINE'\n",
        "model_fee_table = 'L0_CSMS_BAK.V_L0CSMS_XRMCM_MODEL_FEE'\n",
        "chrun_yn_table = 'W0_CSVS.V_CSMS_RENEWAL_YN_LABEL_FINAL'\n",
        "\n",
        "query_string = '''\n",
        "with temp as(\n",
        "  select \n",
        "  a.cont_line_seq,b.TOT_SUM,b.YEAR1_MM_SUM,b.YEAR2_MM_SUM,b.YEAR3_MM_SUM,\n",
        "  b.YEAR4_MM_SUM,b.YEAR5_MM_SUM\n",
        "  from '{}' a\n",
        "  Left Join '{}' b\n",
        "  ON a.RT_FEE_SEQ = b.RT_FEE_SEQ\n",
        ")\n",
        "Select a.renewal_flag, a.customer_cd, b.* \n",
        "From '{}' A \n",
        "Left join temp B ON B.cont_line_seq = A.cont_line_seq;\n",
        "'''.format(cont_line_table, model_fee_table, chrun_yn_table)"
      ]
    },
    {
      "cell_type": "code",
      "source": [
        "############참고#############\n",
        "\n",
        "#import boto3\n",
        "#import os \n",
        "\n",
        "# set aws credentials \n",
        "#s3r = boto3.resource('s3', aws_access_key_id='bbne1125',\n",
        "#    aws_secret_access_key='aws_bbne1125')\n",
        "#bucket = s3r.Bucket('aws_CDP') #bucket 이름\n",
        "\n",
        "# downloading folder \n",
        "#prefix = '' #디렉토리 이름\n",
        "#for object in bucket.objects.filter(Prefix = 'dirname'):\n",
        "#    if object.key == prefix:\n",
        "#        os.makedirs(os.path.dirname(object.key), exist_ok=True)\n",
        "#        continue;\n",
        "#    bucket.download_file(object.key, object.key)"
      ],
      "metadata": {
        "id": "PIrUHZdZRUcg"
      },
      "execution_count": null,
      "outputs": []
    },
    {
      "cell_type": "code",
      "source": [
        "import boto3\n",
        "import pandas as pd\n",
        "\n",
        "AWS_ACCESS_KEY_ID =\"bbne1125\" #access_key\n",
        "AWS_SECRET_ACCESS_KEY = \"aws_bbne1125\" #secret_key\n",
        "AWS_DEFAULT_REGION = \"ap-northeast-2\". #위치 설정\n",
        "client = boto3.client('s3',\n",
        "                      aws_access_key_id=AWS_ACCESS_KEY_ID,\n",
        "                      aws_secret_access_key=AWS_SECRET_ACCESS_KEY,\n",
        "                      region_name=AWS_DEFAULT_REGION\n",
        "                      )\n",
        "\n",
        "response = client.list_buckets() # bucket 목록\n",
        "print(response)\n",
        "\n",
        "obj_list = s3.list_objects(Bucket=\"abcde\",Prefix=\"logs/\") #버킷 이름 넣어야함\n",
        "contents_list = obj_list[\"Contents\"]\n",
        "for i in contents_list:\n",
        "  print(i)\n",
        "\n",
        "df = pd.read_csv(io.BytesI0(obj_list[\"Body\"].read()))"
      ],
      "metadata": {
        "id": "2mNc-kXsRrFu"
      },
      "execution_count": null,
      "outputs": []
    },
    {
      "cell_type": "code",
      "source": [
        "#업로드 코드\n",
        "#s3.upload_file(\"statusdata.csv\",'버킷이름','버킷에 저장할 파일 이름.csv')"
      ],
      "metadata": {
        "id": "sxeAMFJYR4YP"
      },
      "execution_count": null,
      "outputs": []
    }
  ]
}